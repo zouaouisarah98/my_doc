{
  "nbformat": 4,
  "nbformat_minor": 0,
  "metadata": {
    "colab": {
      "name": "tensorfow.ipynb",
      "provenance": [],
      "collapsed_sections": [],
      "authorship_tag": "ABX9TyPzItFLJwix1KumDrAZIKwn",
      "include_colab_link": true
    },
    "kernelspec": {
      "name": "python3",
      "display_name": "Python 3"
    }
  },
  "cells": [
    {
      "cell_type": "markdown",
      "metadata": {
        "id": "view-in-github",
        "colab_type": "text"
      },
      "source": [
        "<a href=\"https://colab.research.google.com/github/zouaouisarah98/my_doc/blob/master/tensorfow.ipynb\" target=\"_parent\"><img src=\"https://colab.research.google.com/assets/colab-badge.svg\" alt=\"Open In Colab\"/></a>"
      ]
    },
    {
      "cell_type": "code",
      "metadata": {
        "id": "eVK0waf5_vuo"
      },
      "source": [
        "# Matplotlib\r\n",
        "import matplotlib.pyplot as plt\r\n",
        "# Tensorflow\r\n",
        "import tensorflow as tf\r\n",
        "# Numpy and Pandas\r\n",
        "import numpy as np\r\n",
        "import pandas as pd\r\n",
        "# Ohter import\r\n",
        "import sys\r\n",
        "\r\n",
        "from sklearn.preprocessing import StandardScaler"
      ],
      "execution_count": 7,
      "outputs": []
    },
    {
      "cell_type": "code",
      "metadata": {
        "colab": {
          "base_uri": "https://localhost:8080/"
        },
        "id": "3STqIeLMADWg",
        "outputId": "082ee5b9-cdbe-4022-a8d3-85821d623c9d"
      },
      "source": [
        "# importer la bdd\r\n",
        "fashion_mnist = tf.keras.datasets.fashion_mnist\r\n",
        "(images, targets), (_,_) = fashion_mnist.load_data()  #images_test, targets_test\r\n",
        "\r\n",
        "# Get only a subpart of the dataset\r\n",
        "images = images[:10000]\r\n",
        "targets = targets [:10000]\r\n",
        "\r\n",
        "print(images.mean())\r\n",
        "print(images.std())\r\n",
        "\r\n",
        "images = images.reshape(-1,784)\r\n",
        "images = images.astype(float)\r\n",
        "\r\n",
        "scaler = StandardScaler()\r\n",
        "images = scaler.fit_transform(images)\r\n",
        "\r\n",
        "print(images.mean())\r\n",
        "print(images.std())\r\n"
      ],
      "execution_count": 50,
      "outputs": [
        {
          "output_type": "stream",
          "text": [
            "73.00877385204082\n",
            "90.2745808471392\n",
            "-1.0476880134421886e-18\n",
            "1.0000000000000007\n"
          ],
          "name": "stdout"
        }
      ]
    },
    {
      "cell_type": "code",
      "metadata": {
        "colab": {
          "base_uri": "https://localhost:8080/",
          "height": 281
        },
        "id": "wU6GHxI7B8_U",
        "outputId": "0aff2e93-a1d0-4d9b-9fa4-24ded5fbe86b"
      },
      "source": [
        "#ploter une seule image\r\n",
        "targets_names = [\"T-shirt/top\", \"Trouser\", \"Pullover\", \"Dress\", \"Coat\", \"Sandal\", \r\n",
        "                 \"Shirt\", \"Sneaker\", \"Bag\", \"Ankle boot\"\r\n",
        "]\r\n",
        "plt.imshow(np.reshape(images[65], (28, 28)), cmap=\"binary\")\r\n",
        "plt.title(targets_names[targets[65]])\r\n",
        "plt.show()"
      ],
      "execution_count": 51,
      "outputs": [
        {
          "output_type": "display_data",
          "data": {
            "image/png": "[encoded data removed]",
            "text/plain": [
              "<Figure size 432x288 with 1 Axes>"
            ]
          },
          "metadata": {
            "tags": [],
            "needs_background": "light"
          }
        }
      ]
    },
    {
      "cell_type": "code",
      "metadata": {
        "colab": {
          "base_uri": "https://localhost:8080/"
        },
        "id": "uB4jD0vTFPzj",
        "outputId": "777ed434-706b-43c6-b597-147184e8a7d1"
      },
      "source": [
        "#creation d'un model\r\n",
        "model = tf.keras.models.Sequential()\r\n",
        "model.add(tf.keras.layers.Flatten(input_shape=[28,28]))\r\n",
        "print(\"la forme :\",images[0:1].shape)\r\n",
        "model_output = model.predict(images[0:1])\r\n",
        "print(\"la forme :\",model_output.shape)\r\n"
      ],
      "execution_count": 52,
      "outputs": [
        {
          "output_type": "stream",
          "text": [
            "la forme : (1, 784)\n",
            "WARNING:tensorflow:Model was constructed with shape (None, 28, 28) for input KerasTensor(type_spec=TensorSpec(shape=(None, 28, 28), dtype=tf.float32, name='flatten_8_input'), name='flatten_8_input', description=\"created by layer 'flatten_8_input'\"), but it was called on an input with incompatible shape (None, 784).\n",
            "WARNING:tensorflow:5 out of the last 5 calls to <function Model.make_predict_function.<locals>.predict_function at 0x7f3b664dd048> triggered tf.function retracing. Tracing is expensive and the excessive number of tracings could be due to (1) creating @tf.function repeatedly in a loop, (2) passing tensors with different shapes, (3) passing Python objects instead of tensors. For (1), please define your @tf.function outside of the loop. For (2), @tf.function has experimental_relax_shapes=True option that relaxes argument shapes that can avoid unnecessary retracing. For (3), please refer to https://www.tensorflow.org/guide/function#controlling_retracing and https://www.tensorflow.org/api_docs/python/tf/function for  more details.\n",
            "la forme : (1, 784)\n"
          ],
          "name": "stdout"
        }
      ]
    },
    {
      "cell_type": "code",
      "metadata": {
        "colab": {
          "base_uri": "https://localhost:8080/"
        },
        "id": "4eJBMPRjFP2e",
        "outputId": "6910864c-5730-4b85-a13b-fb7f1a413308"
      },
      "source": [
        "#creation d'un model\r\n",
        "model = tf.keras.models.Sequential()\r\n",
        "#model.add(tf.keras.layers.Flatten(input_shape=[28,28]))\r\n",
        "\r\n",
        "model.add(tf.keras.layers.Dense(256,activation = \"relu\"))\r\n",
        "model.add(tf.keras.layers.Dense(128,activation = \"relu\"))\r\n",
        "model.add(tf.keras.layers.Dense(10,activation = \"softmax\"))\r\n",
        "\r\n",
        "model_output = model.predict(images[0:1])\r\n",
        "print(model_output,targets[0:1])\r\n"
      ],
      "execution_count": 57,
      "outputs": [
        {
          "output_type": "stream",
          "text": [
            "WARNING:tensorflow:10 out of the last 10 calls to <function Model.make_predict_function.<locals>.predict_function at 0x7f3b65c36f28> triggered tf.function retracing. Tracing is expensive and the excessive number of tracings could be due to (1) creating @tf.function repeatedly in a loop, (2) passing tensors with different shapes, (3) passing Python objects instead of tensors. For (1), please define your @tf.function outside of the loop. For (2), @tf.function has experimental_relax_shapes=True option that relaxes argument shapes that can avoid unnecessary retracing. For (3), please refer to https://www.tensorflow.org/guide/function#controlling_retracing and https://www.tensorflow.org/api_docs/python/tf/function for  more details.\n",
            "[[0.05830511 0.02714731 0.06209528 0.26939297 0.05851895 0.05883675\n",
            "  0.06463476 0.00397589 0.35980886 0.0372841 ]] [9]\n"
          ],
          "name": "stdout"
        }
      ]
    },
    {
      "cell_type": "code",
      "metadata": {
        "id": "LX_pMTgWKmSC"
      },
      "source": [
        "# Compiler le model\r\n",
        "model.compile(\r\n",
        "    loss=\"sparse_categorical_crossentropy\",\r\n",
        "    optimizer=\"sgd\",   # type d'optimizer qui permet de minimiser l erreur\r\n",
        "    metrics=[\"accuracy\"]   # determiner a quelle point la prediction est correcte \r\n",
        ")"
      ],
      "execution_count": 58,
      "outputs": []
    },
    {
      "cell_type": "code",
      "metadata": {
        "colab": {
          "base_uri": "https://localhost:8080/"
        },
        "id": "kgnDwyaRLh8q",
        "outputId": "4a54a3a2-e220-4d46-c956-fb33c983f8f0"
      },
      "source": [
        "# lancer l'apprentissage (le test)\r\n",
        "history = model.fit(images, targets, epochs=10)   #, validation_split=0.2"
      ],
      "execution_count": 59,
      "outputs": [
        {
          "output_type": "stream",
          "text": [
            "Epoch 1/10\n",
            "313/313 [==============================] - 1s 3ms/step - loss: 1.1381 - accuracy: 0.6246\n",
            "Epoch 2/10\n",
            "313/313 [==============================] - 1s 3ms/step - loss: 0.5255 - accuracy: 0.8171\n",
            "Epoch 3/10\n",
            "313/313 [==============================] - 1s 3ms/step - loss: 0.4228 - accuracy: 0.8531\n",
            "Epoch 4/10\n",
            "313/313 [==============================] - 1s 3ms/step - loss: 0.3721 - accuracy: 0.8679\n",
            "Epoch 5/10\n",
            "313/313 [==============================] - 1s 3ms/step - loss: 0.3463 - accuracy: 0.8806\n",
            "Epoch 6/10\n",
            "313/313 [==============================] - 1s 3ms/step - loss: 0.3230 - accuracy: 0.8899\n",
            "Epoch 7/10\n",
            "313/313 [==============================] - 1s 3ms/step - loss: 0.3053 - accuracy: 0.8939\n",
            "Epoch 8/10\n",
            "313/313 [==============================] - 1s 3ms/step - loss: 0.2855 - accuracy: 0.9037\n",
            "Epoch 9/10\n",
            "313/313 [==============================] - 1s 2ms/step - loss: 0.2682 - accuracy: 0.9036\n",
            "Epoch 10/10\n",
            "313/313 [==============================] - 1s 3ms/step - loss: 0.2560 - accuracy: 0.9121\n"
          ],
          "name": "stdout"
        }
      ]
    },
    {
      "cell_type": "code",
      "metadata": {
        "colab": {
          "base_uri": "https://localhost:8080/",
          "height": 544
        },
        "id": "80UHoN_0MomP",
        "outputId": "77734f62-5ded-40af-dbe1-94c474808a01"
      },
      "source": [
        "# avant la normalisation \r\n",
        "acc_curve = history.history[\"accuracy\"]\r\n",
        "loss_curve = history.history[\"loss\"]\r\n",
        "\r\n",
        "plt.plot(loss_curve)\r\n",
        "plt.title(\"Loss\")\r\n",
        "plt.show()\r\n",
        "\r\n",
        "plt.plot(acc_curve)\r\n",
        "plt.title(\"Accuracy\")\r\n",
        "plt.show()"
      ],
      "execution_count": 44,
      "outputs": [
        {
          "output_type": "display_data",
          "data": {
            "image/png": "[encoded data removed]",
            "text/plain": [
              "<Figure size 432x288 with 1 Axes>"
            ]
          },
          "metadata": {
            "tags": [],
            "needs_background": "light"
          }
        },
        {
          "output_type": "display_data",
          "data": {
            "image/png": "[encoded data removed]",
            "text/plain": [
              "<Figure size 432x288 with 1 Axes>"
            ]
          },
          "metadata": {
            "tags": [],
            "needs_background": "light"
          }
        }
      ]
    },
    {
      "cell_type": "code",
      "metadata": {
        "colab": {
          "base_uri": "https://localhost:8080/",
          "height": 544
        },
        "id": "hheipxNaRl0g",
        "outputId": "3e226999-ff98-47a3-9c2b-84b3e5b35059"
      },
      "source": [
        "#apres la normalisation \r\n",
        "acc_curve = history.history[\"accuracy\"]\r\n",
        "loss_curve = history.history[\"loss\"]\r\n",
        "\r\n",
        "plt.plot(loss_curve)\r\n",
        "plt.title(\"Loss\")\r\n",
        "plt.show()\r\n",
        "\r\n",
        "plt.plot(acc_curve)\r\n",
        "plt.title(\"Accuracy\")\r\n",
        "plt.show()"
      ],
      "execution_count": 60,
      "outputs": [
        {
          "output_type": "display_data",
          "data": {
            "image/png": "[encoded data removed]",
            "text/plain": [
              "<Figure size 432x288 with 1 Axes>"
            ]
          },
          "metadata": {
            "tags": [],
            "needs_background": "light"
          }
        },
        {
          "output_type": "display_data",
          "data": {
            "image/png": "[encoded data removed]",
            "text/plain": [
              "<Figure size 432x288 with 1 Axes>"
            ]
          },
          "metadata": {
            "tags": [],
            "needs_background": "light"
          }
        }
      ]
    }
  ]
}